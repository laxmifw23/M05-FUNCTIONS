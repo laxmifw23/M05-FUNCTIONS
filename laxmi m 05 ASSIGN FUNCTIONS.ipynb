{
 "cells": [
  {
   "cell_type": "code",
   "execution_count": 26,
   "metadata": {},
   "outputs": [
    {
     "name": "stdout",
     "output_type": "stream",
     "text": [
      "Hello, John!\n",
      "Hello, my name is Jane!\n"
     ]
    }
   ],
   "source": [
    "'''# 1. What is the difference between a function and a method in Python?\n",
    "-In Python, a function and a method are both blocks of code that can be executed, but they differ in their scope and usage:\n",
    "Function:\n",
    "- A standalone block of code that can be called independently.\n",
    "- Not associated with any class or object.\n",
    "- Can be defined anywhere in the code.\n",
    "Method:\n",
    "- A block of code that is associated with a class or object.\n",
    "- Can access and modify the object's attributes.\n",
    "- Must be called on an instance of the class.\n",
    " example:'''\n",
    "# Function\n",
    "def greet(name):\n",
    "    print(f\"Hello, {name}!\")\n",
    "# Class with a method\n",
    "class Person:\n",
    "    def __init__(self, name):\n",
    "        self.name = name\n",
    "    def greet(self):\n",
    "        print(f\"Hello, my name is {self.name}!\")\n",
    "# Call the function\n",
    "greet(\"John\")\n",
    "# Create an instance of the class and call the method\n",
    "person = Person(\"Jane\")\n",
    "person.greet()"
   ]
  },
  {
   "cell_type": "code",
   "execution_count": null,
   "metadata": {},
   "outputs": [
    {
     "name": "stdout",
     "output_type": "stream",
     "text": [
      "Hello, John!\n"
     ]
    }
   ],
   "source": [
    "'''# 2. Explain the concept of function arguments and parameters in Python.\n",
    "-In Python, function arguments and parameters are used to pass data to a function.\n",
    "Parameters:\n",
    "- The variables defined in the function definition.\n",
    "- They receive the values passed to the function.\n",
    "Arguments:\n",
    "- The values passed to the function when it's called.\n",
    "- They're assigned to the corresponding parameters.\n",
    "Example:'''\n",
    "def greet(name, message):  # name and message are parameters\n",
    "    print(f\"{message}, {name}!\")\n",
    "greet(\"John\", \"Hello\")  # \"John\" and \"Hello\" are arguments"
   ]
  },
  {
   "cell_type": "code",
   "execution_count": null,
   "metadata": {},
   "outputs": [
    {
     "name": "stdout",
     "output_type": "stream",
     "text": [
      "Hello, John\n",
      "8\n",
      "Hello, World\n",
      "Hello, John\n",
      "Hello\n",
      "123\n",
      "True\n",
      "[1, 2, 3]\n",
      "Hello\n"
     ]
    }
   ],
   "source": [
    "# 3. What are the different ways to define and call a function in Python?\n",
    "#1. Standard function definition: def greet(name): print(\"Hello, \" + name)\n",
    "def greet(name):\n",
    "    print(\"Hello, \" + name)\n",
    "greet(\"John\")  # Output: Hello, John\n",
    "#2. Anonymous function (lambda): sum = lambda x, y: x + y\n",
    "sum = lambda x, y: x + y\n",
    "print(sum(3, 5))  # Output: 8\n",
    "#3. Function definition with default arguments: def greet(name = \"World\"): print(\"Hello, \" + name)\n",
    "def greet(name = \"World\"):\n",
    "    print(\"Hello, \" + name)\n",
    "greet()  # Output: Hello, World\n",
    "greet(\"John\")  # Output: Hello, John\n",
    "#4. Function definition with arbitrary arguments: def sum(*args): return sum(args)\n",
    "def print_args(*args):\n",
    "    for arg in args:\n",
    "        print(arg)\n",
    "print_args(\"Hello\", 123, True, [1, 2, 3])\n",
    "#5. Nested function definition: def outer(): def inner(): print(\"Hello\"); inner()\n",
    "def outer():\n",
    "    def inner():\n",
    "        print(\"Hello\")\n",
    "    inner()\n",
    "outer()  # Output: Hello"
   ]
  },
  {
   "cell_type": "code",
   "execution_count": 42,
   "metadata": {},
   "outputs": [
    {
     "name": "stdout",
     "output_type": "stream",
     "text": [
      "12\n"
     ]
    }
   ],
   "source": [
    "# 4. What is the purpose of the return statement in a Python function?\n",
    "'''-The return statement in a Python function serves two purposes:\n",
    "1. Exiting the function: When a return statement is encountered, the function execution stops, and control returns to the caller.\n",
    "2. Returning a value: The return statement can also specify a value to be returned to the caller. This value can be of any data type, including numbers, strings, lists, dictionaries, etc.'''\n",
    "# example:\n",
    "def add(a, b):\n",
    "    result = a + b\n",
    "    return result  # Returns the result and exits the function\n",
    "sum = add(5, 7)\n",
    "print(sum) "
   ]
  },
  {
   "cell_type": "code",
   "execution_count": null,
   "metadata": {},
   "outputs": [
    {
     "name": "stdout",
     "output_type": "stream",
     "text": [
      "1\n",
      "2\n",
      "3\n"
     ]
    }
   ],
   "source": [
    "# 5. What are iterators in Python and how do they differ from iterables?\n",
    "'''-In Python:\n",
    "- Iterables: Objects that can be iterated over, such as lists, tuples, dictionaries, and sets.\n",
    "- Iterators: Objects that keep track of their position in an iterable and yield the next value on each iteration.'''\n",
    "# Example:\n",
    "my_list = [1, 2, 3]  # iterable\n",
    "my_iterator = iter(my_list)  # iterator\n",
    "\n",
    "print(next(my_iterator))  # Output: 1\n",
    "print(next(my_iterator))  # Output: 2\n",
    "print(next(my_iterator))  # Output: 3"
   ]
  },
  {
   "cell_type": "code",
   "execution_count": null,
   "metadata": {},
   "outputs": [
    {
     "name": "stdout",
     "output_type": "stream",
     "text": [
      "0\n",
      "1\n",
      "2\n"
     ]
    }
   ],
   "source": [
    "# 6. Explain the concept of generators in Python and how they are defined.\n",
    "''''-In Python, a generator is a special type of function that can be used to generate a sequence of values on-the-fly, instead of computing them all at once and storing them in memory.\n",
    "A generator is defined using a function with the yield keyword instead of return. When a generator is called, it returns an iterator that produces the values generated by the function.'''\n",
    "# Example:\n",
    "def infinite_sequence():\n",
    "    n = 0\n",
    "    while True:\n",
    "        yield n\n",
    "        n += 1\n",
    "seq = infinite_sequence()\n",
    "print(next(seq))  # Output: 0\n",
    "print(next(seq))  # Output: 1\n",
    "print(next(seq))  # Output: 2"
   ]
  },
  {
   "cell_type": "code",
   "execution_count": 16,
   "metadata": {},
   "outputs": [
    {
     "name": "stdout",
     "output_type": "stream",
     "text": [
      "0\n",
      "1\n",
      "2\n",
      "3\n",
      "4\n",
      "5\n",
      "6\n",
      "7\n",
      "8\n",
      "9\n"
     ]
    }
   ],
   "source": [
    "# 7. What are the advantages of using generators over regular functions?\n",
    "'''Generators offer several advantages over regular functions:\n",
    "1. Memory Efficiency: Generators store only the current state, making them memory-efficient for large datasets.\n",
    "2. Lazy Evaluation: Generators compute values on-the-fly, reducing unnecessary computations.\n",
    "3. Flexibility: Generators can be used to create complex sequences and pipelines.'''\n",
    "# Example:\n",
    "def infinite_sequence():\n",
    "    n = 0\n",
    "    while True:\n",
    "        yield n\n",
    "        n += 1\n",
    "\n",
    "seq = infinite_sequence()\n",
    "for _ in range(10):\n",
    "    print(next(seq))  # Prints numbers 0 to 9\n"
   ]
  },
  {
   "cell_type": "code",
   "execution_count": 17,
   "metadata": {},
   "outputs": [
    {
     "name": "stdout",
     "output_type": "stream",
     "text": [
      "[1, 4, 9, 16, 25]\n"
     ]
    }
   ],
   "source": [
    "# 8. What is a lambda function in Python and when is it typically used?\n",
    "'''-In Python, a lambda function is a small, anonymous function that can be defined inline within a larger expression.\n",
    "Lambda functions are typically used:\n",
    "1. As event handlers: When a small, one-time-use function is needed.\n",
    "2. As higher-order functions: When a function needs to be passed as an argument to another function.\n",
    "3. For data processing: When a simple transformation needs to be applied to data.'''\n",
    "# Example:\n",
    "numbers = [1, 2, 3, 4, 5]\n",
    "squared_numbers = list(map(lambda x: x**2, numbers))\n",
    "print(squared_numbers)  # Output: [1, 4, 9, 16, 25]"
   ]
  },
  {
   "cell_type": "code",
   "execution_count": 18,
   "metadata": {},
   "outputs": [
    {
     "name": "stdout",
     "output_type": "stream",
     "text": [
      "[1, 4, 9, 16, 25]\n"
     ]
    }
   ],
   "source": [
    "# 9. Explain the purpose and usage of the map() function in Python.\n",
    "'''-The map() function in Python applies a given function to each item of an iterable (such as a list, tuple, or string) and returns a map object.\n",
    "Purpose:\n",
    "- To transform or process data in an iterable by applying a function to each element.\n",
    "Usage:\n",
    "- map(function, iterable): Applies the function to each element of the iterable.\n",
    "- The function can be a built-in function, a user-defined function, or a lambda function.'''\n",
    "# Example:\n",
    "def square(x):\n",
    "    return x ** 2\n",
    "numbers = [1, 2, 3, 4, 5]\n",
    "squared_numbers = list(map(square, numbers))\n",
    "print(squared_numbers)  # Output: [1, 4, 9, 16, 25]"
   ]
  },
  {
   "cell_type": "code",
   "execution_count": null,
   "metadata": {},
   "outputs": [
    {
     "name": "stdout",
     "output_type": "stream",
     "text": [
      "[94, 22, 84, 26]\n",
      "[47, 42]\n",
      "113\n"
     ]
    }
   ],
   "source": [
    "''' 10. What is the difference between `map()`, `reduce()`, and `filter()` functions in Python?\n",
    " list:[47,11,42,13];'''\n",
    "'''Here's an explanation of the differences between map(), reduce(), and filter() functions in Python:\n",
    "- map(): Applies a function to each item in an iterable.\n",
    "- filter(): Returns items from an iterable for which a function returns True.\n",
    "- reduce(): Applies a rolling computation to sequential pairs of values.'''\n",
    "# Example:\n",
    "from functools import reduce\n",
    "numbers = [47, 11, 42, 13]\n",
    "# Double each number using map()\n",
    "doubled = list(map(lambda x: x*2, numbers))\n",
    "# Get numbers greater than 30 using filter()\n",
    "filtered = list(filter(lambda x: x > 30, numbers))\n",
    "# Calculate the sum using reduce()\n",
    "sum = reduce(lambda x, y: x + y, numbers)\n",
    "print(doubled)  # [94, 22, 84, 26]\n",
    "print(filtered)  # [47, 42]\n",
    "print(sum)  # 113"
   ]
  },
  {
   "cell_type": "code",
   "execution_count": 24,
   "metadata": {},
   "outputs": [
    {
     "name": "stdout",
     "output_type": "stream",
     "text": [
      "113\n"
     ]
    }
   ],
   "source": [
    "'''11. Using pen & Paper write the internal mechanism for sum operation using  reduce function on this given \n",
    "(Attach paper image for this answer) in doc or colab notebook'''\n",
    "from functools import reduce\n",
    "numbers = [47, 11, 42, 13]\n",
    "total = reduce(lambda x, y: x + y, numbers)\n",
    "print(total)"
   ]
  },
  {
   "cell_type": "markdown",
   "metadata": {},
   "source": [
    "Practice Questions - Answers"
   ]
  },
  {
   "cell_type": "code",
   "execution_count": null,
   "metadata": {},
   "outputs": [
    {
     "name": "stdout",
     "output_type": "stream",
     "text": [
      "12\n"
     ]
    }
   ],
   "source": [
    "'''1. Write a Python function that takes a list of numbers as input and returns the sum of all even numbers in \n",
    "the list.'''\n",
    "def sum_even_numbers(numbers):\n",
    "    even_sum = 0\n",
    "    for num in numbers:\n",
    "        if num % 2 == 0:\n",
    "            even_sum += num\n",
    "    return even_sum\n",
    "numbers = [1, 2, 3, 4, 5, 6]\n",
    "result = sum_even_numbers(numbers)\n",
    "print(result)"
   ]
  },
  {
   "cell_type": "code",
   "execution_count": 6,
   "metadata": {},
   "outputs": [
    {
     "name": "stdout",
     "output_type": "stream",
     "text": [
      "!dlroW ,olleH\n"
     ]
    }
   ],
   "source": [
    "'''2. Create a Python function that accepts a string and returns the reverse of that string.'''\n",
    "def reverse_string(input_str):\n",
    "    return input_str[::-1]\n",
    "input_str = \"Hello, World!\"\n",
    "reversed_str = reverse_string(input_str)\n",
    "print(reversed_str)"
   ]
  },
  {
   "cell_type": "code",
   "execution_count": null,
   "metadata": {},
   "outputs": [
    {
     "name": "stdout",
     "output_type": "stream",
     "text": [
      "[1, 4, 9, 16, 25]\n"
     ]
    }
   ],
   "source": [
    "''' 3. Implement a Python function that takes a list of integers and returns a new list containing the squares of \n",
    "each number.'''\n",
    "def square_numbers(numbers):\n",
    "        return [n ** 2 for n in numbers]\n",
    "numbers = [1, 2, 3, 4, 5]\n",
    "squares = square_numbers(numbers)\n",
    "print(squares) "
   ]
  },
  {
   "cell_type": "code",
   "execution_count": null,
   "metadata": {},
   "outputs": [
    {
     "name": "stdout",
     "output_type": "stream",
     "text": [
      "2 is a prime number\n",
      "3 is a prime number\n",
      "5 is a prime number\n",
      "7 is a prime number\n",
      "11 is a prime number\n",
      "13 is a prime number\n",
      "17 is a prime number\n",
      "19 is a prime number\n",
      "23 is a prime number\n",
      "29 is a prime number\n",
      "31 is a prime number\n",
      "37 is a prime number\n",
      "41 is a prime number\n",
      "43 is a prime number\n",
      "47 is a prime number\n"
     ]
    }
   ],
   "source": [
    "'''4. Write a Python function that checks if a given number is prime or not from 1 to 200.'''\n",
    "def is_prime(n):\n",
    "    if n <= 1:\n",
    "        return False\n",
    "    for i in range(2, int(n ** 0.5) + 1):\n",
    "        if n % i == 0:\n",
    "            return False\n",
    "    return True\n",
    "\n",
    "# Example usage:\n",
    "for i in range(1, 50):\n",
    "    if is_prime(i):\n",
    "        print(f\"{i} is a prime number\")"
   ]
  },
  {
   "cell_type": "code",
   "execution_count": 13,
   "metadata": {},
   "outputs": [
    {
     "name": "stdout",
     "output_type": "stream",
     "text": [
      "0\n",
      "1\n",
      "1\n",
      "2\n",
      "3\n",
      "5\n",
      "8\n",
      "13\n",
      "21\n",
      "34\n"
     ]
    }
   ],
   "source": [
    "'''5. Create an iterator class in Python that generates the Fibonacci sequence up to a specified number of \n",
    "terms.'''\n",
    "class FibonacciIterator:\n",
    "    def __init__(self, n):\n",
    "        self.n = n\n",
    "        self.a, self.b = 0, 1\n",
    "        self.current_term = 0\n",
    "    def __iter__(self):\n",
    "        return self\n",
    "    def __next__(self):\n",
    "        if self.current_term < self.n:\n",
    "            result = self.a\n",
    "            self.a, self.b = self.b, self.a + self.b\n",
    "            self.current_term += 1\n",
    "            return result\n",
    "        else:\n",
    "            raise StopIteration\n",
    "fib_iterator = FibonacciIterator(10)\n",
    "for num in fib_iterator:\n",
    "    print(num)"
   ]
  },
  {
   "cell_type": "code",
   "execution_count": 24,
   "metadata": {},
   "outputs": [
    {
     "name": "stdout",
     "output_type": "stream",
     "text": [
      "Powers of 2 up to exponent 5:\n",
      "1\n",
      "2\n",
      "4\n",
      "8\n",
      "16\n",
      "32\n"
     ]
    }
   ],
   "source": [
    "'''6. Write a generator function in Python that yields the powers of 2 up to a given exponent'''\n",
    "def powers_of_two(exponent):\n",
    "    for i in range(exponent + 1):\n",
    "        yield 2 ** i\n",
    "exponent = 5\n",
    "print(f\"Powers of 2 up to exponent {exponent}:\")\n",
    "for power in powers_of_two(exponent):\n",
    "    print(power)\n"
   ]
  },
  {
   "cell_type": "code",
   "execution_count": 18,
   "metadata": {},
   "outputs": [
    {
     "name": "stdout",
     "output_type": "stream",
     "text": [
      "File not found: example.txt\n"
     ]
    }
   ],
   "source": [
    "'''7. Implement a generator function that reads a file line by line and yields each line as a string.'''\n",
    "def read_file_lines(file_path):\n",
    "    try:\n",
    "        with open(file_path, 'r') as file:\n",
    "            for line in file:\n",
    "                yield line.strip()\n",
    "    except FileNotFoundError:\n",
    "        print(f\"File not found: {file_path}\")\n",
    "\n",
    "file_path = 'example.txt'\n",
    "for line in read_file_lines(file_path):\n",
    "    print(line)"
   ]
  },
  {
   "cell_type": "code",
   "execution_count": 17,
   "metadata": {},
   "outputs": [
    {
     "name": "stdout",
     "output_type": "stream",
     "text": [
      "[(3, 1), (4, 3), (5, 5), (2, 7), (1, 9)]\n"
     ]
    }
   ],
   "source": [
    "'''8. Use a lambda function in Python to sort a list of tuples based on the second element of each tuple.'''\n",
    "tuples_list = [(1, 9), (3, 1), (2, 7), (4, 3), (5, 5)]\n",
    "sorted_list = sorted(tuples_list, key=lambda x: x[1])\n",
    "print(sorted_list)\n"
   ]
  },
  {
   "cell_type": "code",
   "execution_count": 16,
   "metadata": {},
   "outputs": [
    {
     "name": "stdout",
     "output_type": "stream",
     "text": [
      "Celsius Temperatures: [0, 10, 20, 30, 40]\n",
      "Fahrenheit Temperatures: [32.0, 50.0, 68.0, 86.0, 104.0]\n"
     ]
    }
   ],
   "source": [
    "'''9. Write a Python program that uses `map()` to convert a list of temperatures from Celsius to Fahrenheit.'''\n",
    "def celsius_to_fahrenheit(celsius):\n",
    "    return (celsius * 9/5) + 32\n",
    "celsius_temperatures = [0, 10, 20, 30, 40]\n",
    "fahrenheit_temperatures = list(map(celsius_to_fahrenheit, celsius_temperatures))\n",
    "print(\"Celsius Temperatures:\", celsius_temperatures)\n",
    "print(\"Fahrenheit Temperatures:\", fahrenheit_temperatures)"
   ]
  },
  {
   "cell_type": "code",
   "execution_count": 15,
   "metadata": {},
   "outputs": [
    {
     "name": "stdout",
     "output_type": "stream",
     "text": [
      "Hll, Wrld!\n"
     ]
    }
   ],
   "source": [
    "'''10. Create a Python program that uses `filter()` to remove all the vowels from a given string.'''\n",
    "def is_vowel(char):\n",
    "    return char.lower() in 'aeiou'\n",
    "string = \"Hello, World!\"\n",
    "filtered_string = \"\".join(filter(lambda char: not is_vowel(char), string))\n",
    "print(filtered_string)"
   ]
  },
  {
   "cell_type": "code",
   "execution_count": null,
   "metadata": {},
   "outputs": [
    {
     "name": "stdout",
     "output_type": "stream",
     "text": [
      "[(34587, 163.8), (98762, 284.0), (77226, 108.85000000000001), (88112, 84.97)]\n"
     ]
    }
   ],
   "source": [
    "'''11. Imagine an accounting routine used in a book shop. It works on a list with sublists, which look like this:'''\n",
    "\n",
    "\n",
    "'''Write a Python program, which returns a list with 2-tuples. Each tuple consists of the order number and the \n",
    "product of the price per item and the quantity. The product should be increased by 10,- € if the value of the \n",
    "order is smaller than 100,00 €.\n",
    "'''\n",
    "# Define the orders list\n",
    "orders_numbers = [\n",
    "    [34587, \"Book Title and Author\", 40.95, 4],\n",
    "    [98762, \"Learning Python, Mark Lutz\", 56.80, 5],\n",
    "    [77226, \"Head First Python, Paul Barry\", 32.95, 3],\n",
    "    [88112, \"Einfuhrung in Python3, Bernd Klein\", 24.99, 3]\n",
    "]\n",
    "\n",
    "# Use map with a lambda function to calculate the order value\n",
    "result = list(map(lambda order: (order[0], order[2] * order[3] + 10 if order[2] * order[3] < 100 else order[2] * order[3]), orders_numbers))\n",
    "\n",
    "# Print the result\n",
    "print(result)"
   ]
  },
  {
   "cell_type": "code",
   "execution_count": 1,
   "metadata": {},
   "outputs": [
    {
     "name": "stdout",
     "output_type": "stream",
     "text": [
      "[1, 4, 9, 16, 25]\n"
     ]
    }
   ],
   "source": [
    "''' 12. Write a Python program using lambda and map'''\n",
    "numbers = [1, 2, 3, 4, 5]\n",
    "squares = list(map(lambda x: x ** 2, numbers))\n",
    "print(squares)"
   ]
  }
 ],
 "metadata": {
  "kernelspec": {
   "display_name": "Python 3",
   "language": "python",
   "name": "python3"
  },
  "language_info": {
   "codemirror_mode": {
    "name": "ipython",
    "version": 3
   },
   "file_extension": ".py",
   "mimetype": "text/x-python",
   "name": "python",
   "nbconvert_exporter": "python",
   "pygments_lexer": "ipython3",
   "version": "3.12.8"
  }
 },
 "nbformat": 4,
 "nbformat_minor": 2
}
